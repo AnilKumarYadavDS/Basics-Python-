{
  "nbformat": 4,
  "nbformat_minor": 0,
  "metadata": {
    "colab": {
      "provenance": []
    },
    "kernelspec": {
      "name": "python3",
      "display_name": "Python 3"
    },
    "language_info": {
      "name": "python"
    }
  },
  "cells": [
    {
      "cell_type": "markdown",
      "source": [
        "#**Python Basics Assignments**"
      ],
      "metadata": {
        "id": "xeTrPB9x8k0x"
      }
    },
    {
      "cell_type": "markdown",
      "source": [
        "#**THEORY QUESTIONS**"
      ],
      "metadata": {
        "id": "qFiE4qIboTWT"
      }
    },
    {
      "cell_type": "markdown",
      "source": [
        "1.   What is Python, and why is it popular?\n",
        "     - Python is a programming language which is used to write a code and as well as used to perform the calculations, operations, manipulates the data.\n",
        "     - Python is a case sensitive language.\n",
        "     - Python was devloped by Guido van Rossum at 1991 and named it Python.\n",
        "     - Python is a versatile language.\n",
        "     - It is widely used in the industry like the field of data science, machine learning, automation, artificial integellence, and so much more.\n",
        "     - Python provides the ease of learning.\n",
        "     - It is used for web devlopemet, data management, image processing and automation etc. that's why Python is popular.\n",
        "     - Python generates the code directly."
      ],
      "metadata": {
        "id": "e3m-FdNB9A2b"
      }
    },
    {
      "cell_type": "markdown",
      "source": [
        "2.  What is an interpreter in Python?\n",
        "    - A Python interpreter is a computer program that converts each high level program statement into a machine and byte code.\n",
        "    - An interpreter is a type of command which we write a piece of code and Python out form of code."
      ],
      "metadata": {
        "id": "fAvK5kmOBppU"
      }
    },
    {
      "cell_type": "markdown",
      "source": [
        "3.  What are pre-defined keywords in Python?\n",
        "    - Pre-defined keywords are a set of function that has a special meanings in Python and all keywords has purposes.\n",
        "    - All keywords are unique and it is used to executes the code suffienctly.\n",
        "    - Keywords makes the Python more faster and easier to write the code.\n",
        "\n",
        "    - Examples of Pre-defined keywords  in Python are like ( append, str, bool, int, class, remove, del, add, split, in, is, not, not in)\n",
        "    - In Python there are almost 37 pre-defined keywords in Python which is used to as their basis of requirements."
      ],
      "metadata": {
        "id": "Dlk72EJNDJbi"
      }
    },
    {
      "cell_type": "markdown",
      "source": [
        "4. Can keywords be used as variable names?\n",
        "   - No, Keywords cannot used as variables because it is pre-defined words which have special meanings in Python, It kept for special purposes.\n",
        "   - Variables can be as leters (alphabet), and string value and underscore.\n",
        "   - Here are some examples of variables\n",
        "   - these are all the valid way of defining the variables.\n",
        "   - a = \"anil\", b = \"Pwskills\", _ab = 123, skillset123 = \"data_analytics\",\n",
        "   \n",
        "\n",
        "   - We can't defined the variable such as:,\n",
        "   - 123 =  \"Anil\", $%^ = \"Pwskills\", skill-course = \"DS\", 1ab = \"Anil\""
      ],
      "metadata": {
        "id": "6Eoga0gyFNsZ"
      }
    },
    {
      "cell_type": "markdown",
      "source": [
        "5. What is mutability in Python?\n",
        "   - Mutability means the elements we can change, replace, edit, modify after the creation.\n",
        "   - Examples of mutables list, sets, dictionary.\n",
        "   - list1 = [1, None, \"Anil\", 4.5, (flower, potato, lily), True, False]\n",
        "   - list[2] = \"Wealthy\"\n",
        "   - In the list of 'Anil' will be changes as the 'wealthy'.\n",
        "   - here the concept of indexing which we can access th element of data set which is available in the list."
      ],
      "metadata": {
        "id": "v_lkrgRDIovs"
      }
    },
    {
      "cell_type": "markdown",
      "source": [
        "6. Why are lists mutable, but tuples are immutable?\n",
        "   - Tuples are in the parenthesis() instead of square bracket, but the items in tuples are immutable which we cant't change or modify after the creaton.\n",
        "   - Exampes of tuples, a = (\"anil\", 5.3, \"Adhar Number', \"Mobile number)\n",
        "    - Lists are defined in the square bracket[], the items are in lists are mutable which we can change or modify the creation.\n",
        "    - Examples of lists are, list_of_anil = [\"potato\", \"brinjal\", \"flower\"]\n",
        "   "
      ],
      "metadata": {
        "id": "P4pMr0L_LMoY"
      }
    },
    {
      "cell_type": "markdown",
      "source": [
        "7. What is the difference between “==” and “is” operators in Python?\n",
        "   - \"==\" It is the comparision operator.\n",
        "   - \"==\" it is used to compare betweenthe two values and and then returs the boolean value which is be True or Fasle.\n",
        "   - \"==\" it is known as the (is equal to )\n",
        "     - \"is\" It is a membership operator in Python which is used to identify the locaation of the value of the data.\n",
        "     - It also returns the boolean value.\n",
        "     - Examples\n",
        "     -  a = 1\n",
        "     - b = 2\n",
        "     - a is b\n",
        "     -  you will get return false because the a is assigned as the different variables name and b is assinged different variables."
      ],
      "metadata": {
        "id": "PwobzZIWOEHO"
      }
    },
    {
      "cell_type": "markdown",
      "source": [
        "8. What are logical operators in Python?\n",
        "   - Logical operators perform the conditions based logical operations and it always returns the boolean value.\n",
        "   - In Python, there are three types of logical operators.\n",
        "   - AND; It returns true, if the the both condition is true otherwise false.\n",
        "   - OR ; It returns true,  if the the atleast one condition is true, otherwise false\n",
        "   - NOT; It reversed the condition. if the conditon is true, it returns false. if the condition is false, it returns true. that's the understanding of the logical operators in python.\n",
        "     "
      ],
      "metadata": {
        "id": "V27cAxJeQD-m"
      }
    },
    {
      "cell_type": "markdown",
      "source": [
        "10. What is the difference between implicit and explicit type casting?\n",
        "    - IMPLICIT; Python coverts automatially but the can be the risk of data loss.\n",
        "    - examples;\n",
        "    - a = 3.5 (float)\n",
        "    - int(a)\n",
        "    - return you will get here after converting the data type is 3, here you will loss the point value.\n",
        "      - EXPLICIT; It converts manually by the devloper or programmer.\n",
        "      - examples;\n",
        "      - a = '123'\n",
        "      - here the value stored in the form of string but we have to convert into data type.\n",
        "      - int(a)\n",
        "      - return you will get 123\n",
        "      - here no chance of value losses. that's the understanding of type casting."
      ],
      "metadata": {
        "id": "zSjsy6OxUTei"
      }
    },
    {
      "cell_type": "markdown",
      "source": [
        "9.  What is type casting in Python?\n",
        "   - Type casting is known as the type conversion.\n",
        "   - It converts the data type one into another.\n",
        "   - There are two tpes of type casting.\n",
        "     - IMPLICIT; Python coverts automatially but the can be the risk of data loss.\n",
        "     - return you will get here after converting the data type is 3, here you will loss the point value.\n",
        "       - EXPLICIT; It converts manually by the devloper or programmer.\n",
        "       - here no chance of value losses. that's the understanding of type casting."
      ],
      "metadata": {
        "id": "UnACpI8oR4go"
      }
    },
    {
      "cell_type": "markdown",
      "source": [
        "11. What is the purpose of conditional statements in Python?\n",
        "    - The purpose of conditional statements is run the piece of code untill when the conditons has not matched. in this process the energy and time both take suffienctly and it provides the better coding experience.\n",
        "    - Python supports condition statements (if, elif, else)\n",
        "    - it is used to execute the code basis on the the conditions.\n",
        "    - Nested if is used to handle the multiple conditions in python."
      ],
      "metadata": {
        "id": "vw9dZfuMVmsA"
      }
    },
    {
      "cell_type": "markdown",
      "source": [
        "12. How does the elif statement work?\n",
        "    - elif is short hand of (else if) and it is used to check the multiple conditions.\n",
        "    - Firstly check the if conditions,\n",
        "    - if this conditions is false then\n",
        "    - check the elif conditions, and\n",
        "    - then again check the next elif conditions( if elif condition is available)\n",
        "    - if the above all elif conditions is false then\n",
        "    - else code will bw executed.\n",
        "\n",
        "     - examples of elif statement;\n",
        "     - if age < 18:\n",
        "     - print(\"you are a minor\")\n",
        "     - elif >= age < 65:\n",
        "     - print(\"you are an adult\")\n",
        "     - else:\n",
        "     - print(\"you are a old man\")"
      ],
      "metadata": {
        "id": "Awfxvct_dCU-"
      }
    },
    {
      "cell_type": "markdown",
      "source": [
        "13. What is the difference between for and while loops?\n",
        "    - FOR LOOP; It is used to iterate the element over the element to execute the code untill the given conditions.\n",
        "    - examples;\n",
        "    - number = 10\n",
        "    -  for num in range(number):\n",
        "    - print(num+1)\n",
        "    - Here the return you will get constantly 2,3,4,5,6,7,8,9\n",
        "    - To execute the FOR loop, we will have to use the range or list, it is necessary to iterate the value.\n",
        "      - WHILE LOOP; It is used to execute the code when the specified condition is not met.\n",
        "      - Example;\n",
        "      - a = 10\n",
        "      - while a>5:\n",
        "      - print(a)\n",
        "      - a -= 1\n",
        "      - here outcome will be 10,9,8,7,6"
      ],
      "metadata": {
        "id": "G4jr1N5NfoVD"
      }
    },
    {
      "cell_type": "markdown",
      "source": [
        "14. Describe a scenario where a while loop is more suitable than a for loop.\n",
        "    - when we don't know how many times code will bw executed then we used to while loop.\n",
        "    - when we know how many times we have the loop executed then we used to for loop.\n",
        "      - WHILE ; To get the password we will use the whie loop untill the condition is met.\n",
        "      - password = 'anil'\n",
        "      - while password !="
      ],
      "metadata": {
        "id": "YvlJzmAVjyAk"
      }
    },
    {
      "cell_type": "code",
      "source": [
        "\"\"\"\n",
        "14. Describe a scenario where a while loop is more suitable than a for loop.\n",
        "\n",
        "when we don't know how many times code will bw executed then we used to while loop.\n",
        "when we know how many times we have the loop executed then we used to for loop\n",
        "WHILE ; To get the password we will use the whie loop untill the condition is met.\n",
        "\"\"\"\n",
        "password = 'anil'\n",
        "while password != 'anil':\n",
        "  print(\"Please enter the valid password\")"
      ],
      "metadata": {
        "id": "mDN2NyRZmMCh"
      },
      "execution_count": null,
      "outputs": []
    },
    {
      "cell_type": "markdown",
      "source": [
        "##**PRACTICAL QUESTIONS**"
      ],
      "metadata": {
        "id": "LnSf_FFNoAFz"
      }
    },
    {
      "cell_type": "code",
      "source": [
        "# Q.1 Write a Python program to print \"Hello, World!\n",
        "print(\"Hello World!\")\n",
        "print"
      ],
      "metadata": {
        "colab": {
          "base_uri": "https://localhost:8080/"
        },
        "id": "1TaST7E0oKtL",
        "outputId": "83ab9a10-e9b2-42bd-b96f-1cf929f74d1e"
      },
      "execution_count": null,
      "outputs": [
        {
          "output_type": "stream",
          "name": "stdout",
          "text": [
            "Hello World!\n"
          ]
        },
        {
          "output_type": "execute_result",
          "data": {
            "text/plain": [
              "<function print(*args, sep=' ', end='\\n', file=None, flush=False)>"
            ]
          },
          "metadata": {},
          "execution_count": 3
        }
      ]
    },
    {
      "cell_type": "code",
      "source": [
        "# Q.2 Write a Python program that displays your name and age?\n",
        "name = \"Anil\"\n",
        "age = 20\n",
        "print(f\"my name is {name} and age is {age}\")"
      ],
      "metadata": {
        "colab": {
          "base_uri": "https://localhost:8080/"
        },
        "id": "owvmIJuHpQgA",
        "outputId": "35870c2e-1941-4ad2-81ae-bb3ff8bf61bc"
      },
      "execution_count": null,
      "outputs": [
        {
          "output_type": "stream",
          "name": "stdout",
          "text": [
            "my name is Anil and age is 20\n"
          ]
        }
      ]
    },
    {
      "cell_type": "code",
      "source": [
        "# Q.3 Write code to print all the pre-defined keywords in Python using the keyword library?\n",
        "help(\"keywords\")"
      ],
      "metadata": {
        "colab": {
          "base_uri": "https://localhost:8080/"
        },
        "id": "HR5dCEN9q1EE",
        "outputId": "f40f5835-d468-4621-9af0-298041278910"
      },
      "execution_count": null,
      "outputs": [
        {
          "output_type": "stream",
          "name": "stdout",
          "text": [
            "\n",
            "Here is a list of the Python keywords.  Enter any keyword to get more help.\n",
            "\n",
            "False               class               from                or\n",
            "None                continue            global              pass\n",
            "True                def                 if                  raise\n",
            "and                 del                 import              return\n",
            "as                  elif                in                  try\n",
            "assert              else                is                  while\n",
            "async               except              lambda              with\n",
            "await               finally             nonlocal            yield\n",
            "break               for                 not                 \n",
            "\n"
          ]
        }
      ]
    },
    {
      "cell_type": "code",
      "source": [
        "# Q.4 Write a program that checks if a given word is a Python keyword?\n",
        "import keyword\n",
        "word = input(\"enter a word to check\")\n",
        "def check_password(word):\n",
        "    if keyword.iskeyword(word):\n",
        "        print(f\" '{word}' is a python keyword. \")\n",
        "    else:\n",
        "        print(f\" '{word}' is not a python keyword. \")"
      ],
      "metadata": {
        "id": "wIgASDKn0YfO"
      },
      "execution_count": null,
      "outputs": []
    },
    {
      "cell_type": "code",
      "source": [
        "# Q.5 Create a list and tuple in Python, and demonstrate how attempting to change an element works differently\n",
        "# for each.\n",
        "# List is mutable data type which we can change the element of list but tuple is the immutable data type that's why we cannot change the elements in tuple.\n",
        "list1 = [1, 2, 3]\n",
        "list1[0] = \"anil\" #here 1 is replacing by \"anil\" through the method of indexing\n",
        "list1 # here you will get like ['anil', 2, 3]\n",
        "\n",
        "tuple1 = (1, 2, 3)\n",
        "tuple1[0] = \"anil\"\n",
        "tuple1 #here you will get type error because tuple is immutable data type."
      ],
      "metadata": {
        "colab": {
          "base_uri": "https://localhost:8080/"
        },
        "id": "qywFThMlnVzS",
        "outputId": "59e0d974-8d17-4a43-af54-d2ed755b5121"
      },
      "execution_count": 6,
      "outputs": [
        {
          "output_type": "execute_result",
          "data": {
            "text/plain": [
              "(1, 2, 3)"
            ]
          },
          "metadata": {},
          "execution_count": 6
        }
      ]
    },
    {
      "cell_type": "code",
      "source": [
        "# Q.6 Write a function to demonstrate the behavior of mutable and immutable arguments.\n"
      ],
      "metadata": {
        "id": "l-UbJSWcqL63"
      },
      "execution_count": null,
      "outputs": []
    },
    {
      "cell_type": "code",
      "source": [
        "# Q.8 0 Write a program to demonstrate the use of logical operators.\n",
        "# in AND operators, both conditions should be true.\n",
        "age = 20\n",
        "if age >= 18:\n",
        "  citizen = True\n",
        "  print(\"You are eligible to vote. \")\n",
        "else:\n",
        "  print(\"You are not eligible for vote. \")\n",
        "\n",
        "# OR OPERATOR\n",
        "# In or operator, returns true atleast one condition should be meet, otherwise returns false.\n",
        "is_student = False\n",
        "is_senior = True\n",
        "if is_student or is_senior:\n",
        "  print(\"You are eligible to take rest\")\n",
        "else:\n",
        "  print(\"You are not eligible to take rest\")\n",
        "\n",
        "# NOT OPERATOR\n",
        "# in not operator, it reversed the ouput, if the both conditions sre true it return false, otherwise true.\n",
        "is_student = True\n",
        "if not is_student:\n",
        "  print(\"You are not a student\")\n",
        "else:\n",
        "  print(\"You are a student\")"
      ],
      "metadata": {
        "id": "MCWqx4cyuoa3"
      },
      "execution_count": null,
      "outputs": []
    },
    {
      "cell_type": "code",
      "source": [
        "# Q.9 Write a Python program to convert user input from string to integer, float, and boolean types?str = input(\"Enter a string: \"\n",
        "# from string to integer we have to do;\n",
        "a = '123'\n",
        "int(a)\n",
        "a\n",
        "\n",
        "# from string to float\n",
        "a = \"123\"\n",
        "float(a)\n",
        "\n",
        "# from string to boolean\n",
        "a = '123'\n",
        "bool(a)"
      ],
      "metadata": {
        "colab": {
          "base_uri": "https://localhost:8080/"
        },
        "id": "P0PtrkxpyPue",
        "outputId": "eacfecf7-4393-4438-e36c-aa45eb95887c"
      },
      "execution_count": 18,
      "outputs": [
        {
          "output_type": "execute_result",
          "data": {
            "text/plain": [
              "True"
            ]
          },
          "metadata": {},
          "execution_count": 18
        }
      ]
    },
    {
      "cell_type": "code",
      "source": [
        "# Q.10 Write code to demonstrate type casting with list elements.\n",
        "numbers = [\"11\", \"22\", \"33\"]\n",
        "converted_numbers = [int(x) for x in numbers] # here we used iterate the variable in the form of x\n",
        "\n",
        "print(\"original list:\" , numbers)\n",
        "print(\"converted list:\", converted_numbers)"
      ],
      "metadata": {
        "colab": {
          "base_uri": "https://localhost:8080/"
        },
        "id": "Y8YwnvBr07yd",
        "outputId": "579f444e-0f0a-46b0-be6f-681645d5c712"
      },
      "execution_count": 23,
      "outputs": [
        {
          "output_type": "stream",
          "name": "stdout",
          "text": [
            "original list: ['11', '22', '33']\n",
            "converted list: [11, 22, 33]\n"
          ]
        }
      ]
    },
    {
      "cell_type": "code",
      "source": [
        "# Q.11 Write a program that checks if a number is positive, negative, or zero.\n",
        "number = 0\n",
        "if number > 0:\n",
        "  print(\"The number is positive\")\n",
        "elif number < 0:\n",
        "      print(\"the number is negative\")\n",
        "else:\n",
        "    print(\"the number is zero\")"
      ],
      "metadata": {
        "id": "jJI6C6wg5NWl"
      },
      "execution_count": null,
      "outputs": []
    },
    {
      "cell_type": "code",
      "source": [
        "# Q.12  Write a for loop to print numbers from 1 to 10.\n",
        "for a in range (1,11):\n",
        "  print(a)"
      ],
      "metadata": {
        "id": "6s5yh0uT5kW9"
      },
      "execution_count": 29,
      "outputs": []
    },
    {
      "cell_type": "code",
      "source": [
        "# Q.13 Write a Python program to find the sum of all even numbers between 1 and 50\n",
        "sum_of_even = 0\n",
        "for num in range(1, 51):\n",
        "  if num % 2 == 0:\n",
        "    sum_of_even += number\n",
        "\n",
        "print(\"The sum of even numbers between 1 and 50 is:\", sum_of_even)"
      ],
      "metadata": {
        "colab": {
          "base_uri": "https://localhost:8080/"
        },
        "id": "ShtYG4DL6EeM",
        "outputId": "7ddb375c-2556-4d6e-bd33-88cce8a74201"
      },
      "execution_count": 35,
      "outputs": [
        {
          "output_type": "stream",
          "name": "stdout",
          "text": [
            "The sum of even numbers between 1 and 50 is: 0\n"
          ]
        }
      ]
    },
    {
      "cell_type": "code",
      "source": [
        "# Q.14 Write a program to reverse a string using a while loop.\n",
        "name = \"anil\"\n",
        "print(name[::-1]) #[:start, :stop, :step], -1 step reverses the string value automatically."
      ],
      "metadata": {
        "colab": {
          "base_uri": "https://localhost:8080/"
        },
        "id": "LrsFb99I7SDK",
        "outputId": "d78490e9-99df-465a-d06a-0746e6269ba7"
      },
      "execution_count": 36,
      "outputs": [
        {
          "output_type": "stream",
          "name": "stdout",
          "text": [
            "lina\n"
          ]
        }
      ]
    },
    {
      "cell_type": "code",
      "source": [
        "# Q.15 0 Write a Python program to calculate the factorial of a number provided by the user using a while loop\n",
        "no = int(input(\"enter a number \")) # to take the input from user.\n",
        "no = 12\n",
        "fact = 1\n",
        "while (no > 1):\n",
        "  fact = fact*1\n",
        "no = no - 1\n",
        "print(\"factorial of the no:, factorial\")"
      ],
      "metadata": {
        "colab": {
          "base_uri": "https://localhost:8080/"
        },
        "id": "9BZRPvU2EUTl",
        "outputId": "f0355e0d-9baa-461d-c27d-270c857d6b7c"
      },
      "execution_count": null,
      "outputs": [
        {
          "name": "stdout",
          "output_type": "stream",
          "text": [
            "enter a number6\n"
          ]
        }
      ]
    }
  ]
}